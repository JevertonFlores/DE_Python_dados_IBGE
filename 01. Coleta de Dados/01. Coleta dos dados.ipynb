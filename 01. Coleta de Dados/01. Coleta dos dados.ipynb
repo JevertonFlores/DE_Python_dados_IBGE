{
 "cells": [
  {
   "cell_type": "markdown",
   "id": "8525732a",
   "metadata": {},
   "source": [
    "# Avisos\n",
    "\n",
    "Este notebook contem os scrips que irão:\n",
    "\n",
    "- Coletar os dados nas suas origens;\n",
    "- Realizar algumas pequenas transformações e;\n",
    "- Carregar esses dados tratados na área de Stage."
   ]
  },
  {
   "cell_type": "markdown",
   "id": "9dcdec52",
   "metadata": {},
   "source": [
    "# Imports"
   ]
  },
  {
   "cell_type": "code",
   "execution_count": 107,
   "id": "c35ce8e9",
   "metadata": {},
   "outputs": [],
   "source": [
    "import pandas as pd\n",
    "from datetime import datetime\n",
    "from pathlib import Path\n",
    "import sqlite3 as sql"
   ]
  },
  {
   "cell_type": "markdown",
   "id": "2baa5cd3",
   "metadata": {},
   "source": [
    "# Variáveis"
   ]
  },
  {
   "cell_type": "code",
   "execution_count": 108,
   "id": "91157a0b",
   "metadata": {},
   "outputs": [],
   "source": [
    "# Variável que determina a data da carga de uma tabela.\n",
    "dtCarga = datetime.today().strftime('%d/%m/%Y %H:%M')\n",
    "\n",
    "# Variável com o diretório local onde serão salvos os bancos de dados SQLite.\n",
    "endereco = Path('G:\\\\Meu Drive\\\\Projetos - Data Engineer\\\\Databases\\\\')\n",
    "\n",
    "# Definindo o local de criação dos bancos.\n",
    "BDODS = endereco / \"ibgeSTG.db\"                  #ODS = Operational Data Store\n",
    "BDDW = endereco / \"ibgeDW.db\"                    #DW = Data Warehouse\n",
    "\n",
    "# Conectando nos bancos de dados.\n",
    "connODS = sql.connect(BDODS)\n",
    "connDW = sql.connect(BDDW)\n",
    "\n",
    "# Definindo a manipulação de dados via SQL.\n",
    "SQL_ODS = connODS.cursor()\n",
    "SQL_DW = connDW.cursor()"
   ]
  },
  {
   "cell_type": "markdown",
   "id": "90fb83f5",
   "metadata": {},
   "source": [
    "# Data Sources"
   ]
  },
  {
   "cell_type": "code",
   "execution_count": 109,
   "id": "c989cddd",
   "metadata": {},
   "outputs": [],
   "source": [
    "# Variáveis dos data sources.\n",
    "\n",
    "# URL do site do IBGE onde estão os dados que desejamos coletar via Web Scraping.\n",
    "url_IBGE = 'https://www.ibge.gov.br/explica/codigos-dos-municipios.php#RJ'\n",
    "\n",
    "# Arquivos .csv armazenados no GitHub.\n",
    "ds_dp = \"https://raw.githubusercontent.com/JevertonFlores/ETL_Python_dados_IBGE/main/datasets/DP.csv\"\n",
    "ds_bpm = \"https://raw.githubusercontent.com/JevertonFlores/ETL_Python_dados_IBGE/main/datasets/BPM.csv\"\n",
    "ds_resp_dp = \"https://raw.githubusercontent.com/JevertonFlores/ETL_Python_dados_IBGE/main/datasets/ResponsavelDP.csv\"\n",
    "ds_area_bpm = \"https://raw.githubusercontent.com/JevertonFlores/ETL_Python_dados_IBGE/main/datasets/areaBPM.csv?\"\n",
    "ds_ocorrencias = \"https://raw.githubusercontent.com/JevertonFlores/ETL_Python_dados_IBGE/main/datasets/Ocorrencia.csv\"\n"
   ]
  },
  {
   "cell_type": "markdown",
   "id": "4e9bdb8b",
   "metadata": {},
   "source": [
    "# Coletando os dados do site do IBGE (Web Scraping)"
   ]
  },
  {
   "cell_type": "code",
   "execution_count": 110,
   "id": "52a91033",
   "metadata": {},
   "outputs": [],
   "source": [
    "# Coletando dados do IBGE e os colocando um dataframe.\n",
    "\n",
    "DadosIBGE = pd.DataFrame(pd.read_html(url_IBGE, match='Municípios do Rio de Janeiro')[0])"
   ]
  },
  {
   "cell_type": "markdown",
   "id": "61954704",
   "metadata": {},
   "source": [
    "# Coletando dados dos arquivos .csv"
   ]
  },
  {
   "cell_type": "code",
   "execution_count": 111,
   "id": "e4321d06",
   "metadata": {},
   "outputs": [],
   "source": [
    "# Coletando dados das DP's e os colocando um dataframe.\n",
    "dadosDP = pd.DataFrame(pd.read_csv(ds_dp))\n",
    "\n",
    "# Coletando dados dos Responsáveios pelas DP's e os colocando um dataframe.\n",
    "dadosRespDP = pd.DataFrame(pd.read_csv(ds_resp_dp))\n",
    "\n",
    "# Coletando dados dos BPM's e os colocando um dataframe.\n",
    "dadosBPM = pd.DataFrame(pd.read_csv(ds_bpm))\n",
    "\n",
    "# Coletando dados das áreas dos BPM's e os colocando um dataframe.\n",
    "dadosAreaBPM = pd.DataFrame(pd.read_csv(ds_area_bpm))\n",
    "\n",
    "# Coletando dados das ocorrências e os colocando um dataframe.\n",
    "dadosOcorrencias = pd.DataFrame(pd.read_csv(ds_ocorrencias))"
   ]
  },
  {
   "cell_type": "markdown",
   "id": "db10293e",
   "metadata": {},
   "source": [
    "# Tratando os dados"
   ]
  },
  {
   "cell_type": "code",
   "execution_count": 112,
   "id": "92483cb6",
   "metadata": {},
   "outputs": [],
   "source": [
    "# Criando coluna para armazenar a data e hora das cargas, no formado dd/mm/AAAA HH:MM.\n",
    "\n",
    "DadosIBGE ['dt_carga'] = dtCarga\n",
    "dadosDP ['dt_carga'] = dtCarga\n",
    "dadosRespDP ['dt_carga'] = dtCarga\n",
    "dadosBPM ['dt_carga'] = dtCarga\n",
    "dadosAreaBPM ['dt_carga'] = dtCarga\n",
    "dadosOcorrencias ['dt_carga'] = dtCarga"
   ]
  },
  {
   "cell_type": "code",
   "execution_count": 113,
   "id": "3688e7cd",
   "metadata": {},
   "outputs": [
    {
     "data": {
      "text/html": [
       "<div>\n",
       "<style scoped>\n",
       "    .dataframe tbody tr th:only-of-type {\n",
       "        vertical-align: middle;\n",
       "    }\n",
       "\n",
       "    .dataframe tbody tr th {\n",
       "        vertical-align: top;\n",
       "    }\n",
       "\n",
       "    .dataframe thead th {\n",
       "        text-align: right;\n",
       "    }\n",
       "</style>\n",
       "<table border=\"1\" class=\"dataframe\">\n",
       "  <thead>\n",
       "    <tr style=\"text-align: right;\">\n",
       "      <th></th>\n",
       "      <th>nm_municipio</th>\n",
       "      <th>cod_municipio</th>\n",
       "      <th>dt_carga</th>\n",
       "    </tr>\n",
       "  </thead>\n",
       "  <tbody>\n",
       "    <tr>\n",
       "      <th>0</th>\n",
       "      <td>Angra dos Reis</td>\n",
       "      <td>3300100</td>\n",
       "      <td>27/02/2023 02:33</td>\n",
       "    </tr>\n",
       "    <tr>\n",
       "      <th>1</th>\n",
       "      <td>Aperibé</td>\n",
       "      <td>3300159</td>\n",
       "      <td>27/02/2023 02:33</td>\n",
       "    </tr>\n",
       "    <tr>\n",
       "      <th>2</th>\n",
       "      <td>Araruama</td>\n",
       "      <td>3300209</td>\n",
       "      <td>27/02/2023 02:33</td>\n",
       "    </tr>\n",
       "    <tr>\n",
       "      <th>3</th>\n",
       "      <td>Areal</td>\n",
       "      <td>3300225</td>\n",
       "      <td>27/02/2023 02:33</td>\n",
       "    </tr>\n",
       "    <tr>\n",
       "      <th>4</th>\n",
       "      <td>Armação dos Búzios</td>\n",
       "      <td>3300233</td>\n",
       "      <td>27/02/2023 02:33</td>\n",
       "    </tr>\n",
       "    <tr>\n",
       "      <th>...</th>\n",
       "      <td>...</td>\n",
       "      <td>...</td>\n",
       "      <td>...</td>\n",
       "    </tr>\n",
       "    <tr>\n",
       "      <th>87</th>\n",
       "      <td>Três Rios</td>\n",
       "      <td>3306008</td>\n",
       "      <td>27/02/2023 02:33</td>\n",
       "    </tr>\n",
       "    <tr>\n",
       "      <th>88</th>\n",
       "      <td>Valença</td>\n",
       "      <td>3306107</td>\n",
       "      <td>27/02/2023 02:33</td>\n",
       "    </tr>\n",
       "    <tr>\n",
       "      <th>89</th>\n",
       "      <td>Varre-Sai</td>\n",
       "      <td>3306156</td>\n",
       "      <td>27/02/2023 02:33</td>\n",
       "    </tr>\n",
       "    <tr>\n",
       "      <th>90</th>\n",
       "      <td>Vassouras</td>\n",
       "      <td>3306206</td>\n",
       "      <td>27/02/2023 02:33</td>\n",
       "    </tr>\n",
       "    <tr>\n",
       "      <th>91</th>\n",
       "      <td>Volta Redonda</td>\n",
       "      <td>3306305</td>\n",
       "      <td>27/02/2023 02:33</td>\n",
       "    </tr>\n",
       "  </tbody>\n",
       "</table>\n",
       "<p>92 rows × 3 columns</p>\n",
       "</div>"
      ],
      "text/plain": [
       "          nm_municipio  cod_municipio          dt_carga\n",
       "0       Angra dos Reis        3300100  27/02/2023 02:33\n",
       "1              Aperibé        3300159  27/02/2023 02:33\n",
       "2             Araruama        3300209  27/02/2023 02:33\n",
       "3                Areal        3300225  27/02/2023 02:33\n",
       "4   Armação dos Búzios        3300233  27/02/2023 02:33\n",
       "..                 ...            ...               ...\n",
       "87           Três Rios        3306008  27/02/2023 02:33\n",
       "88             Valença        3306107  27/02/2023 02:33\n",
       "89           Varre-Sai        3306156  27/02/2023 02:33\n",
       "90           Vassouras        3306206  27/02/2023 02:33\n",
       "91       Volta Redonda        3306305  27/02/2023 02:33\n",
       "\n",
       "[92 rows x 3 columns]"
      ]
     },
     "execution_count": 113,
     "metadata": {},
     "output_type": "execute_result"
    }
   ],
   "source": [
    "# Renomeando colunas no dataframe dadosIBGE.\n",
    "\n",
    "DadosIBGE = DadosIBGE.rename(columns={'Municípios do Rio de Janeiro':'nm_municipio', 'Códigos':'cod_municipio'})\n",
    "\n",
    "DadosIBGE"
   ]
  },
  {
   "cell_type": "code",
   "execution_count": 114,
   "id": "b0a9eaa4",
   "metadata": {},
   "outputs": [],
   "source": [
    "# Alterando o nome do index no dataframe dadosIBGE.\n",
    "\n",
    "DadosIBGE .index.name = 'idx_st_municipio'"
   ]
  },
  {
   "cell_type": "code",
   "execution_count": 115,
   "id": "2469a782",
   "metadata": {},
   "outputs": [],
   "source": [
    "# Alterando o index para iniciar em 1 no dataframe dadosIBGE.\n",
    "\n",
    "DadosIBGE.index = DadosIBGE.index + 1"
   ]
  },
  {
   "cell_type": "markdown",
   "id": "49d11d35",
   "metadata": {},
   "source": [
    "# Carregando os dados para a Stage"
   ]
  },
  {
   "cell_type": "code",
   "execution_count": 116,
   "id": "2b80f79a",
   "metadata": {},
   "outputs": [
    {
     "name": "stdout",
     "output_type": "stream",
     "text": [
      "Iniciando a inserção de dados na tabela st_municipio.\n",
      "-------------------------------------------------\n",
      "Carga finalizada! 92 registros inseridos na st_municipio!\n"
     ]
    }
   ],
   "source": [
    "# Inserindo registros na tabela st_municipio.\n",
    "\n",
    "print(\"Iniciando a inserção de dados na tabela st_municipio.\")\n",
    "print(\"-------------------------------------------------\")\n",
    "\n",
    "SQL_ODS.executemany('''INSERT INTO st_municipio (nm_municipio, cod_municipio, dtCarga) VALUES (?,?,?)''',DadosIBGE.values.tolist())\n",
    "\n",
    "#confirmar a transação\n",
    "connODS.commit()\n",
    "\n",
    "#Exibir uma mensagem de conclusão de carga\n",
    "print(\"Carga finalizada!\",len(DadosIBGE), \"registros inseridos na st_municipio!\")"
   ]
  },
  {
   "cell_type": "code",
   "execution_count": 117,
   "id": "f5f0937a",
   "metadata": {},
   "outputs": [
    {
     "name": "stdout",
     "output_type": "stream",
     "text": [
      "Iniciando a inserção de dados na tabela st_dp.\n",
      "-------------------------------------------------\n",
      "Carga finalizada! 137 registros inseridos na st_dp!\n"
     ]
    }
   ],
   "source": [
    "# Inserindo registros na tabela st_dp.\n",
    "\n",
    "print(\"Iniciando a inserção de dados na tabela st_dp.\")\n",
    "print(\"-------------------------------------------------\")\n",
    "\n",
    "SQL_ODS.executemany('''INSERT INTO st_dp (cod_dp, nm_dp, endereco, dtCarga) VALUES (?,?,?,?)''',dadosDP.values.tolist())\n",
    "\n",
    "#confirmar a transação\n",
    "connODS.commit()\n",
    "\n",
    "#Exibir uma mensagem de conclusão de carga\n",
    "print(\"Carga finalizada!\",len(dadosDP), \"registros inseridos na st_dp!\")"
   ]
  },
  {
   "cell_type": "code",
   "execution_count": 118,
   "id": "41347917",
   "metadata": {},
   "outputs": [
    {
     "name": "stdout",
     "output_type": "stream",
     "text": [
      "Iniciando a inserção de dados na tabela st_resp_dp.\n",
      "-------------------------------------------------\n",
      "Carga finalizada! 137 registros inseridos na st_resp_dp!\n"
     ]
    }
   ],
   "source": [
    "# Inserindo registros na tabela st_resp_dp.\n",
    "\n",
    "print(\"Iniciando a inserção de dados na tabela st_resp_dp.\")\n",
    "print(\"-------------------------------------------------\")\n",
    "\n",
    "SQL_ODS.executemany('''INSERT INTO st_resp_dp (cod_dp,nm_responsavel, dtCarga) VALUES (?,?,?)''',dadosRespDP.values.tolist())\n",
    "\n",
    "#confirmar a transação\n",
    "connODS.commit()\n",
    "\n",
    "#Exibir uma mensagem de conclusão de carga\n",
    "print(\"Carga finalizada!\",len(dadosRespDP), \"registros inseridos na st_resp_dp!\")"
   ]
  },
  {
   "cell_type": "code",
   "execution_count": 119,
   "id": "76f4b011",
   "metadata": {
    "scrolled": true
   },
   "outputs": [
    {
     "name": "stdout",
     "output_type": "stream",
     "text": [
      "Iniciando a inserção de dados na tabela st_bpm.\n",
      "-------------------------------------------------\n",
      "Carga finalizada! 39 registros inseridos na st_resp_dp!\n"
     ]
    }
   ],
   "source": [
    "# Inserindo registros na tabela st_bpm.\n",
    "\n",
    "print(\"Iniciando a inserção de dados na tabela st_bpm.\")\n",
    "print(\"-------------------------------------------------\")\n",
    "\n",
    "SQL_ODS.executemany('''INSERT INTO st_bpm (cod_bpm, nm_bpm, endereco, dtCarga) VALUES (?,?,?,?)''',dadosBPM.values.tolist())\n",
    "\n",
    "#confirmar a transação\n",
    "connODS.commit()\n",
    "\n",
    "#Exibir uma mensagem de conclusão de carga\n",
    "print(\"Carga finalizada!\",len(dadosBPM), \"registros inseridos na st_resp_dp!\")"
   ]
  },
  {
   "cell_type": "code",
   "execution_count": 120,
   "id": "8e4efdd8",
   "metadata": {
    "scrolled": true
   },
   "outputs": [
    {
     "name": "stdout",
     "output_type": "stream",
     "text": [
      "Iniciando a inserção de dados na tabela st_area_bpm.\n",
      "-------------------------------------------------\n",
      "Carga finalizada! 39 registros inseridos na st_resp_dp!\n"
     ]
    }
   ],
   "source": [
    "# Inserindo registros na tabela st_area_bpm.\n",
    "\n",
    "print(\"Iniciando a inserção de dados na tabela st_area_bpm.\")\n",
    "print(\"-------------------------------------------------\")\n",
    "\n",
    "SQL_ODS.executemany('''INSERT INTO st_area_bpm (cod_bpm, area_bpm, dtCarga) VALUES (?,?,?)''',dadosAreaBPM.values.tolist())\n",
    "\n",
    "#confirmar a transação\n",
    "connODS.commit()\n",
    "\n",
    "#Exibir uma mensagem de conclusão de carga\n",
    "print(\"Carga finalizada!\",len(dadosAreaBPM), \"registros inseridos na st_resp_dp!\")"
   ]
  },
  {
   "cell_type": "code",
   "execution_count": 121,
   "id": "1b53e5e6",
   "metadata": {},
   "outputs": [
    {
     "name": "stdout",
     "output_type": "stream",
     "text": [
      "Iniciando a inserção de dados na tabela st_ocorrencias.\n",
      "-------------------------------------------------\n",
      "Carga finalizada! 124008 registros inseridos na st_ocorrencias!\n"
     ]
    }
   ],
   "source": [
    "# Inserindo registros na tabela st_ocorrencias.\n",
    "\n",
    "print(\"Iniciando a inserção de dados na tabela st_ocorrencias.\")\n",
    "print(\"-------------------------------------------------\")\n",
    "\n",
    "SQL_ODS.executemany('''\n",
    "                    INSERT INTO st_ocorrencias (\n",
    "                        cod_dp, cod_bpm, ano, mes, ano_mes, regiao, cod_municipio, ocorrencia, quantidade, dtCarga\n",
    "                    ) \n",
    "                        VALUES (?,?,?,?,?,?,?,?,?,?)''',dadosOcorrencias.values.tolist())\n",
    "\n",
    "#confirmar a transação\n",
    "connODS.commit()\n",
    "\n",
    "#Exibir uma mensagem de conclusão de carga\n",
    "print(\"Carga finalizada!\",len(dadosOcorrencias), \"registros inseridos na st_ocorrencias!\")"
   ]
  },
  {
   "cell_type": "markdown",
   "id": "0d685b9f",
   "metadata": {},
   "source": [
    "# Fechando as conexões"
   ]
  },
  {
   "cell_type": "code",
   "execution_count": 122,
   "id": "be4d653e",
   "metadata": {},
   "outputs": [],
   "source": [
    "# Fechando as conexões com ODS e DW.\n",
    "\n",
    "connODS.close()\n",
    "connDW.close()"
   ]
  }
 ],
 "metadata": {
  "kernelspec": {
   "display_name": "Python 3 (ipykernel)",
   "language": "python",
   "name": "python3"
  },
  "language_info": {
   "codemirror_mode": {
    "name": "ipython",
    "version": 3
   },
   "file_extension": ".py",
   "mimetype": "text/x-python",
   "name": "python",
   "nbconvert_exporter": "python",
   "pygments_lexer": "ipython3",
   "version": "3.9.13"
  }
 },
 "nbformat": 4,
 "nbformat_minor": 5
}
