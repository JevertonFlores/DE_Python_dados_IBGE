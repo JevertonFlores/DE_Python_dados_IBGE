{
 "cells": [
  {
   "cell_type": "markdown",
   "id": "9dcdec52",
   "metadata": {},
   "source": [
    "# Imports"
   ]
  },
  {
   "cell_type": "code",
   "execution_count": 40,
   "id": "c35ce8e9",
   "metadata": {},
   "outputs": [],
   "source": [
    "import pandas as pd\n",
    "from datetime import datetime\n",
    "from pathlib import Path\n",
    "import sqlite3 as sql"
   ]
  },
  {
   "cell_type": "markdown",
   "id": "2baa5cd3",
   "metadata": {},
   "source": [
    "# Variáveis"
   ]
  },
  {
   "cell_type": "code",
   "execution_count": 41,
   "id": "91157a0b",
   "metadata": {},
   "outputs": [],
   "source": [
    "# Variável que determina a data da carga de uma tabela.\n",
    "dtCarga = datetime.today().strftime('%d/%m/%Y %H:%M')\n",
    "\n",
    "# Variável com o diretório local onde serão salvos os bancos de dados SQLite.\n",
    "endereco = Path('G:\\\\Meu Drive\\\\Projetos - Data Engineer\\\\Databases\\\\')\n",
    "\n",
    "# Definindo o local de criação dos bancos.\n",
    "BDODS = endereco / \"ibgeSTG.db\"                  #ODS = Operational Data Store\n",
    "BDDW = endereco / \"ibgeDW.db\"                    #DW = Data Warehouse\n",
    "\n",
    "# Conectando nos bancos de dados.\n",
    "connODS = sql.connect(BDODS)\n",
    "connDW = sql.connect(BDDW)\n",
    "\n",
    "# Definindo a manipulação de dados via SQL.\n",
    "SQL_ODS = connODS.cursor()\n",
    "SQL_DW = connDW.cursor()"
   ]
  },
  {
   "cell_type": "markdown",
   "id": "87034891",
   "metadata": {},
   "source": [
    "# Criação dos bancos de dados"
   ]
  },
  {
   "cell_type": "code",
   "execution_count": 42,
   "id": "f9e6b9dd",
   "metadata": {},
   "outputs": [
    {
     "name": "stdout",
     "output_type": "stream",
     "text": [
      "Bancos de dados já existem!\n"
     ]
    }
   ],
   "source": [
    "# Criando os bancos de dados ODS e DW.\n",
    "\n",
    "if endereco.exists():\n",
    "    if (BDODS.exists() and BDDW.exists()):\n",
    "        print('Bancos de dados já existem!')\n",
    "    else:\n",
    "        BDODS.touch()\n",
    "        BDDW.touch()\n",
    "        print('Bancos de dados criados!')\n",
    "else:\n",
    "    print('Endereço não existe! Favor, verificar!')"
   ]
  },
  {
   "cell_type": "markdown",
   "id": "d9dcf6e1",
   "metadata": {},
   "source": [
    "# Criação das tabelas na Stage Area"
   ]
  },
  {
   "cell_type": "code",
   "execution_count": 43,
   "id": "7dfdf903",
   "metadata": {},
   "outputs": [],
   "source": [
    "# Definindo a query de criação da tabela st_dp.\n",
    "\n",
    "qry_st_dp = '''\n",
    "    CREATE TABLE IF NOT EXISTS st_dp (\n",
    "    \n",
    "    cod_dp INTEGER,\n",
    "    nm_dp VARCHAR (100),\n",
    "    endereco VARCHAR (255),\n",
    "    dtCarga DATETIME\n",
    "    )\n",
    "'''\n",
    "\n",
    "# Executando a query para criação da tabela.\n",
    "SQL_ODS.execute(qry_st_dp)\n",
    "\n",
    "# Definindo a query de criação do index.\n",
    "qry_idx_stdp = \"CREATE INDEX IF NOT EXISTS idx_st_dp ON st_dp (cod_dp)\"\n",
    "\n",
    "# Executando a query para criação do index.\n",
    "SQL_ODS.execute(qry_idx_stdp)\n",
    "\n",
    "connODS.commit()"
   ]
  },
  {
   "cell_type": "code",
   "execution_count": 44,
   "id": "c0dc48f1",
   "metadata": {},
   "outputs": [],
   "source": [
    "# Definindo a query de criação da tabela st_resp_dp.\n",
    "\n",
    "qry_st_resp_dp = '''\n",
    "    CREATE TABLE IF NOT EXISTS st_resp_dp (\n",
    "    \n",
    "    cod_dp INTEGER,\n",
    "    nm_responsavel VARCHAR (100),\n",
    "    dtCarga DATETIME\n",
    "    )\n",
    "'''\n",
    "\n",
    "# Executando a query para criação da tabela.\n",
    "SQL_ODS.execute(qry_st_resp_dp)\n",
    "\n",
    "# Definindo a query de criação do index.\n",
    "qry_idx_strespdp = \"CREATE INDEX IF NOT EXISTS idx_st_resp_dp ON st_resp_dp (cod_dp)\"\n",
    "\n",
    "# Executando a query para criação do index.\n",
    "SQL_ODS.execute(qry_idx_strespdp)\n",
    "\n",
    "connODS.commit()"
   ]
  },
  {
   "cell_type": "code",
   "execution_count": 45,
   "id": "311cf42a",
   "metadata": {},
   "outputs": [],
   "source": [
    "# Definindo a query de criação da tabela st_bpm.\n",
    "\n",
    "qry_st_bpm = '''\n",
    "    CREATE TABLE IF NOT EXISTS st_bpm (\n",
    "    \n",
    "    cod_bpm INTEGER,\n",
    "    nm_bpm VARCHAR (10),\n",
    "    endereco VARCHAR (255),\n",
    "    dtCarga DATETIME\n",
    "    )\n",
    "'''\n",
    "\n",
    "# Executando a query para criação da tabela.\n",
    "SQL_ODS.execute(qry_st_bpm)\n",
    "\n",
    "# Definindo a query de criação do index.\n",
    "query_idx_stbpm = \"CREATE INDEX IF NOT EXISTS idx_st_bpm ON st_bpm (cod_bpm)\"\n",
    "\n",
    "# Executando a query para criação do index.\n",
    "SQL_ODS.execute(query_idx_stbpm)\n",
    "\n",
    "connODS.commit()"
   ]
  },
  {
   "cell_type": "code",
   "execution_count": 46,
   "id": "53ef6462",
   "metadata": {},
   "outputs": [],
   "source": [
    "# Definindo a query de criação da tabela st_area_bpm.\n",
    "\n",
    "qry_st_area_bpm = '''\n",
    "    CREATE TABLE IF NOT EXISTS st_area_bpm (\n",
    "    \n",
    "    cod_bpm INTEGER,\n",
    "    area_bpm REAL (5,2),\n",
    "    dtCarga DATETIME\n",
    "    )\n",
    "'''\n",
    "\n",
    "# Executando a query para criação da tabela.\n",
    "SQL_ODS.execute(qry_st_area_bpm)\n",
    "\n",
    "# Definindo a query de criação do index na tabela.\n",
    "qry_idx_stareabpm = \"CREATE INDEX IF NOT EXISTS idx_st_area_bpm ON tbLogAreaBPM (cod_bpm)\"\n",
    "\n",
    "# Executando a query para criação do index.\n",
    "SQL_ODS.execute(qry_idx_stareabpm)\n",
    "\n",
    "connODS.commit()"
   ]
  },
  {
   "cell_type": "code",
   "execution_count": 47,
   "id": "136fbd15",
   "metadata": {},
   "outputs": [],
   "source": [
    "# Definindo a query de criação da tabela st_municipio.\n",
    "\n",
    "qry_st_municipio = '''\n",
    "    CREATE TABLE IF NOT EXISTS st_municipio (\n",
    "    \n",
    "    cod_municipio INTEGER,\n",
    "    nm_municipio VARCHAR (255),\n",
    "    dtCarga DATETIME\n",
    "    )\n",
    "'''\n",
    "\n",
    "# Executando a query para criação da tabela.\n",
    "SQL_ODS.execute(qry_st_municipio)\n",
    "\n",
    "# Definindo a query de criação do index na tabela.\n",
    "qry_idx_stmunicipio = \"CREATE INDEX IF NOT EXISTS idx_st_municipio ON st_municipio (cod_municipio)\"\n",
    "\n",
    "# Executando a query para criação do index.\n",
    "SQL_ODS.execute(qry_idx_stmunicipio)\n",
    "\n",
    "connODS.commit()"
   ]
  },
  {
   "cell_type": "code",
   "execution_count": 48,
   "id": "35aa6cec",
   "metadata": {},
   "outputs": [],
   "source": [
    "# Definindo a query de criação da tabela st_ocorrencias.\n",
    "\n",
    "qry_st_ocorrencias = '''\n",
    "    CREATE TABLE IF NOT EXISTS st_ocorrencias (\n",
    "    \n",
    "    cod_dp INTEGER,\n",
    "    cod_bpm INTEGER,\n",
    "    ano INTEGER,\n",
    "    mes INTEGER,\n",
    "    ano_mes VARCHAR (10),\n",
    "    regiao INTEGER,\n",
    "    cod_municipio INTEGER,\n",
    "    ocorrencia VARCHAR (255),\n",
    "    quantidade INTEGER,\n",
    "    dtCarga DATETIME\n",
    "    )\n",
    "    \n",
    "'''\n",
    "# Executando a query para criação da tabela.\n",
    "SQL_ODS.execute(qry_st_ocorrencias)\n",
    "\n",
    "# Definindo a query de criação do index na tabela.\n",
    "qry_idx_stocorrencias = \"CREATE INDEX IF NOT EXISTS idx_st_ocorrencias ON st_ocorrencias (cod_dp, cod_bpm, ano_mes, cod_municipio)\"\n",
    "\n",
    "# Executando a query para criação do index.\n",
    "SQL_ODS.execute(qry_idx_stocorrencias)\n",
    "\n",
    "connODS.commit()"
   ]
  },
  {
   "cell_type": "markdown",
   "id": "a1799a9b",
   "metadata": {},
   "source": [
    "# Criação das tabelas Dimensão no Data Warehouse"
   ]
  },
  {
   "cell_type": "code",
   "execution_count": 49,
   "id": "e725b325",
   "metadata": {},
   "outputs": [],
   "source": [
    "# Definindo a query de criação da tabela dim_dp.\n",
    "\n",
    "qry_dim_dp = '''\n",
    "    CREATE TABLE IF NOT EXISTS dim_dp (\n",
    "    \n",
    "    sk_dp INTEGER PRIMARY KEY AUTOINCREMENT,\n",
    "    cod_dp INTEGER,\n",
    "    nm_dp VARCHAR (100),\n",
    "    endereco VARCHAR (255),\n",
    "    nm_responsavel VARCHAR (100)\n",
    "    )\n",
    "'''\n",
    "\n",
    "# Executando a query para criação da tabela.\n",
    "SQL_DW.execute(qry_dim_dp)\n",
    "\n",
    "# Definindo a query de criação do index na tabela.\n",
    "qry_idx_dimdp = \"CREATE INDEX IF NOT EXISTS idx_dim_dp ON dim_dp (sk_dp)\"\n",
    "\n",
    "# Executando a query para criação do index.\n",
    "SQL_DW.execute(qry_idx_dimdp)\n",
    "\n",
    "connDW.commit()"
   ]
  },
  {
   "cell_type": "code",
   "execution_count": 50,
   "id": "7a7febe1",
   "metadata": {},
   "outputs": [],
   "source": [
    "# Definindo a query de criação da tabela dim_bpm.\n",
    "\n",
    "qry_dim_bpm = '''\n",
    "    CREATE TABLE IF NOT EXISTS dim_bpm (\n",
    "    \n",
    "    sk_bpm INTEGER PRIMARY KEY AUTOINCREMENT,\n",
    "    cod_bpm INTEGER,\n",
    "    nm_bpm VARCHAR (10),\n",
    "    endereco VARCHAR (255),\n",
    "    area_bpm REAL (5,2)\n",
    "    )\n",
    "'''\n",
    "\n",
    "# Executando a query para criação da tabela.\n",
    "SQL_DW.execute(qry_dim_bpm)\n",
    "\n",
    "# Definindo a query de criação do index na tabela.\n",
    "qry_idx_dimbpm = \"CREATE INDEX IF NOT EXISTS idx_dim_bpm ON dim_bpm (sk_dp)\"\n",
    "\n",
    "# Executando a query para criação do index.\n",
    "SQL_DW.execute(qry_idx_dimdp)\n",
    "\n",
    "connDW.commit()"
   ]
  },
  {
   "cell_type": "code",
   "execution_count": 51,
   "id": "e011821e",
   "metadata": {},
   "outputs": [],
   "source": [
    "# Definindo a query de criação da tabela dim_municipio.\n",
    "\n",
    "qry_dim_municipio = '''\n",
    "    CREATE TABLE IF NOT EXISTS dim_municipio (\n",
    "    \n",
    "    sk_municipio INTEGER PRIMARY KEY AUTOINCREMENT,\n",
    "    cod_municipio INTEGER,\n",
    "    nm_municipio VARCHAR (255)\n",
    "    )\n",
    "'''\n",
    "\n",
    "# Executando a query para criação da tabela.\n",
    "SQL_DW.execute(qry_dim_municipio)\n",
    "\n",
    "# Definindo a query de criação do index na tabela.\n",
    "qry_idx_dimmunicipio = \"CREATE INDEX IF NOT EXISTS idx_dim_municipio ON dim_municipio (sk_municipio)\"\n",
    "\n",
    "# Executando a query para criação do index.\n",
    "SQL_DW.execute(qry_idx_dimmunicipio)\n",
    "\n",
    "connDW.commit()"
   ]
  },
  {
   "cell_type": "code",
   "execution_count": 52,
   "id": "d6e84ebd",
   "metadata": {},
   "outputs": [],
   "source": [
    "# Definindo a query de criação da tabela dim_tempo.\n",
    "\n",
    "qry_dim_tempo = '''\n",
    "    CREATE TABLE IF NOT EXISTS dim_tempo (\n",
    "    \n",
    "    sk_tempo INTEGER PRIMARY KEY,\n",
    "    data DATETIME,\n",
    "    dia INTEGER,\n",
    "    mes INTEGER,\n",
    "    ano INTEGER,\n",
    "    trimestre VARCHAR (2),\n",
    "    semestre VARCHAR (2)\n",
    "    )\n",
    "'''\n",
    "\n",
    "# Executando a query para criação da tabela.\n",
    "SQL_DW.execute(qry_dim_tempo)\n",
    "\n",
    "# Definindo a query de criação do index na tabela.\n",
    "qry_idx_dimtempo = \"CREATE INDEX IF NOT EXISTS idx_dim_tempo ON dim_tempo (sk_tempo)\"\n",
    "\n",
    "# Executando a query para criação do index.\n",
    "SQL_DW.execute(qry_idx_dimtempo)\n",
    "\n",
    "connDW.commit()"
   ]
  },
  {
   "cell_type": "markdown",
   "id": "f360f3d2",
   "metadata": {},
   "source": [
    "# Criação da tabela Fato no Data Warehouse\n",
    "\n",
    "O comando \"ON UPDATE NO ACTION ON DELETE NO ACTION\" é uma cláusula de restrição de chave estrangeira que é adicionada às definições das chaves estrangeiras (FKs).\n",
    "Essa cláusula indica que, se houver uma tentativa de atualização ou exclusão de uma linha na tabela de origem (tabela referenciada pela chave estrangeira), nenhuma ação deve ser tomada em relação às linhas correspondentes na tabela \"fato\".\n",
    "\n",
    "Em outras palavras, a cláusula \"NO ACTION\" impede que a atualização ou exclusão de uma linha na tabela referenciada pela chave estrangeira afete as linhas correspondentes na tabela \"fato_ocorrencia\". \n",
    "\n",
    "Essa cláusula é uma opção comum para garantir a integridade referencial em modelos de dados dimensionais, onde a maioria dos dados históricos não deve ser alterada."
   ]
  },
  {
   "cell_type": "code",
   "execution_count": 53,
   "id": "d2910b2f",
   "metadata": {},
   "outputs": [],
   "source": [
    "# Definindo a query de criação da tabela fato_boletim_ocorrencias.\n",
    "\n",
    "qry_fato_ocorrencias = '''\n",
    "    CREATE TABLE IF NOT EXISTS fato_boletim_ocorrencias (\n",
    "    \n",
    "    sk_dp INTEGER REFERENCES dim_dp(sk_dp) ON UPDATE NO ACTION ON DELETE NO ACTION,\n",
    "    sk_bpm INTEGER REFERENCES dim_bpm(sk_bpm) ON UPDATE NO ACTION ON DELETE NO ACTION,\n",
    "    sk_municipio INTEGER REFERENCES dim_municipio(sk_municipio) ON UPDATE NO ACTION ON DELETE NO ACTION,\n",
    "    sk_tempo INTEGER REFERENCES dim_tempo(sk_tempo) ON UPDATE NO ACTION ON DELETE NO ACTION,\n",
    "    ocorrencia VARCHAR (255), --Dimensão degenerada.\n",
    "    quantidade INTEGER\n",
    "    )\n",
    "'''\n",
    "\n",
    "# Executando a query para criação da tabela.\n",
    "SQL_DW.execute(qry_fato_ocorrencias)\n",
    "\n",
    "# Definindo a query de criação do index na tabela dTempo.\n",
    "query_idx_fatoocorrencias = \"CREATE INDEX IF NOT EXISTS idx_fato_ocorrencias ON fato_boletim_ocorrencias (sk_dp, sk_bpm, sk_municipio, sk_tempo)\"\n",
    "\n",
    "# Executando a query para criação do index.\n",
    "SQL_DW.execute(query_idx_fatoocorrencias)\n",
    "\n",
    "connDW.commit()"
   ]
  },
  {
   "cell_type": "markdown",
   "id": "15297014",
   "metadata": {},
   "source": [
    "# Fechando as conexões"
   ]
  },
  {
   "cell_type": "code",
   "execution_count": 54,
   "id": "d08e688b",
   "metadata": {},
   "outputs": [],
   "source": [
    "# Fechando as conexões com ODS e DW.\n",
    "\n",
    "connODS.close()\n",
    "connDW.close()"
   ]
  }
 ],
 "metadata": {
  "kernelspec": {
   "display_name": "Python 3 (ipykernel)",
   "language": "python",
   "name": "python3"
  },
  "language_info": {
   "codemirror_mode": {
    "name": "ipython",
    "version": 3
   },
   "file_extension": ".py",
   "mimetype": "text/x-python",
   "name": "python",
   "nbconvert_exporter": "python",
   "pygments_lexer": "ipython3",
   "version": "3.9.13"
  }
 },
 "nbformat": 4,
 "nbformat_minor": 5
}
